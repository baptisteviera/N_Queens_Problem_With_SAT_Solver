{
 "cells": [
  {
   "cell_type": "code",
   "execution_count": 5,
   "outputs": [],
   "source": [
    "from typing import List, Tuple\n",
    "import subprocess\n",
    "import itertools\n",
    "\n",
    "# alias de types\n",
    "Variable = int\n",
    "Literal = int\n",
    "Clause = List[Literal]\n",
    "Model = List[Literal]\n",
    "Clause_Base = List[Clause]\n",
    "Grid = List[List[int]]\n",
    "\n",
    "SIZE = 4"
   ],
   "metadata": {
    "collapsed": false,
    "pycharm": {
     "name": "#%%\n"
    }
   }
  },
  {
   "cell_type": "code",
   "execution_count": 6,
   "outputs": [],
   "source": [
    "Quatre_Queen: Grid = [\n",
    "    [0, 0, 0, 0],\n",
    "    [0, 0, 0, 0],\n",
    "    [0, 0, 0, 0],\n",
    "    [0, 0, 0, 0],\n",
    "]"
   ],
   "metadata": {
    "collapsed": false,
    "pycharm": {
     "name": "#%%\n"
    }
   }
  },
  {
   "cell_type": "code",
   "execution_count": 7,
   "outputs": [],
   "source": [
    "def at_least_one(vars: List[int]) -> List[int]:\n",
    "    return [i for i in vars]"
   ],
   "metadata": {
    "collapsed": false,
    "pycharm": {
     "name": "#%%\n"
    }
   }
  },
  {
   "cell_type": "code",
   "execution_count": 8,
   "outputs": [],
   "source": [
    "def unique(vars: List[int]) -> List[List[int]]:\n",
    "    base = [list((-l1, -l2)) for l1, l2 in itertools.combinations(vars, 2)]\n",
    "    base.append(at_least_one(vars))\n",
    "    return base"
   ],
   "metadata": {
    "collapsed": false,
    "pycharm": {
     "name": "#%%\n"
    }
   }
  },
  {
   "cell_type": "code",
   "execution_count": 9,
   "outputs": [],
   "source": [
    "def AtmostOne(vars: List[int]):\n",
    "    base = unique(vars)\n",
    "    base.pop()\n",
    "    return base"
   ],
   "metadata": {
    "collapsed": false,
    "pycharm": {
     "name": "#%%\n"
    }
   }
  },
  {
   "cell_type": "code",
   "execution_count": 10,
   "outputs": [
    {
     "data": {
      "text/plain": "[[-1, -2], [-1, -3], [-1, -4], [-2, -3], [-2, -4], [-3, -4]]"
     },
     "execution_count": 10,
     "metadata": {},
     "output_type": "execute_result"
    }
   ],
   "source": [
    "AtmostOne([1, 2, 3, 4])"
   ],
   "metadata": {
    "collapsed": false,
    "pycharm": {
     "name": "#%%\n"
    }
   }
  },
  {
   "cell_type": "code",
   "execution_count": 11,
   "outputs": [],
   "source": [
    "def row_col_to_var(row,col):\n",
    "    #global first_var\n",
    "    return row*SIZE+col+1"
   ],
   "metadata": {
    "collapsed": false,
    "pycharm": {
     "name": "#%%\n"
    }
   }
  },
  {
   "cell_type": "code",
   "execution_count": 14,
   "outputs": [],
   "source": [
    "def var_to_row_col(var):\n",
    "    i = (var-1) // SIZE\n",
    "    j = (var-1) % SIZE\n",
    "    return (i,j)\n"
   ],
   "metadata": {
    "collapsed": false,
    "pycharm": {
     "name": "#%%\n"
    }
   }
  },
  {
   "cell_type": "code",
   "execution_count": 18,
   "outputs": [
    {
     "data": {
      "text/plain": "7"
     },
     "execution_count": 18,
     "metadata": {},
     "output_type": "execute_result"
    }
   ],
   "source": [
    "row_col_to_var(1,2)"
   ],
   "metadata": {
    "collapsed": false,
    "pycharm": {
     "name": "#%%\n"
    }
   }
  },
  {
   "cell_type": "code",
   "execution_count": 19,
   "outputs": [
    {
     "data": {
      "text/plain": "(1, 2)"
     },
     "execution_count": 19,
     "metadata": {},
     "output_type": "execute_result"
    }
   ],
   "source": [
    "var_to_row_col(7)\n"
   ],
   "metadata": {
    "collapsed": false,
    "pycharm": {
     "name": "#%%\n"
    }
   }
  },
  {
   "cell_type": "markdown",
   "source": [
    "one single queen must be present at each row"
   ],
   "metadata": {
    "collapsed": false
   }
  },
  {
   "cell_type": "code",
   "execution_count": 10,
   "outputs": [],
   "source": [
    "def create_line_constraints() -> List[List[int]]:\n",
    "    base = []\n",
    "    id_j = 1\n",
    "    for i in range(0,SIZE):\n",
    "            base += unique([j for j in range(id_j,SIZE+id_j)])\n",
    "            id_j += SIZE\n",
    "    return base"
   ],
   "metadata": {
    "collapsed": false,
    "pycharm": {
     "name": "#%%\n"
    }
   }
  },
  {
   "cell_type": "code",
   "execution_count": 11,
   "outputs": [
    {
     "data": {
      "text/plain": "[[-1, -2],\n [-1, -3],\n [-1, -4],\n [-2, -3],\n [-2, -4],\n [-3, -4],\n [1, 2, 3, 4],\n [-5, -6],\n [-5, -7],\n [-5, -8],\n [-6, -7],\n [-6, -8],\n [-7, -8],\n [5, 6, 7, 8],\n [-9, -10],\n [-9, -11],\n [-9, -12],\n [-10, -11],\n [-10, -12],\n [-11, -12],\n [9, 10, 11, 12],\n [-13, -14],\n [-13, -15],\n [-13, -16],\n [-14, -15],\n [-14, -16],\n [-15, -16],\n [13, 14, 15, 16]]"
     },
     "execution_count": 11,
     "metadata": {},
     "output_type": "execute_result"
    }
   ],
   "source": [
    "create_line_constraints()"
   ],
   "metadata": {
    "collapsed": false,
    "pycharm": {
     "name": "#%%\n"
    }
   }
  },
  {
   "cell_type": "code",
   "execution_count": 12,
   "outputs": [],
   "source": [
    "def create_columns_constraints() -> List[List[int]]:\n",
    "    base = []\n",
    "    id_i = 1\n",
    "    for j in range(SIZE):\n",
    "            base += unique([i for i in range(j+1,SIZE**2-(SIZE-1)+j+1, SIZE)])\n",
    "            #id_i += size_grid\n",
    "    return base"
   ],
   "metadata": {
    "collapsed": false,
    "pycharm": {
     "name": "#%%\n"
    }
   }
  },
  {
   "cell_type": "code",
   "execution_count": 13,
   "outputs": [
    {
     "data": {
      "text/plain": "[[-1, -5],\n [-1, -9],\n [-1, -13],\n [-5, -9],\n [-5, -13],\n [-9, -13],\n [1, 5, 9, 13],\n [-2, -6],\n [-2, -10],\n [-2, -14],\n [-6, -10],\n [-6, -14],\n [-10, -14],\n [2, 6, 10, 14],\n [-3, -7],\n [-3, -11],\n [-3, -15],\n [-7, -11],\n [-7, -15],\n [-11, -15],\n [3, 7, 11, 15],\n [-4, -8],\n [-4, -12],\n [-4, -16],\n [-8, -12],\n [-8, -16],\n [-12, -16],\n [4, 8, 12, 16]]"
     },
     "execution_count": 13,
     "metadata": {},
     "output_type": "execute_result"
    }
   ],
   "source": [
    "create_columns_constraints()"
   ],
   "metadata": {
    "collapsed": false,
    "pycharm": {
     "name": "#%%\n"
    }
   }
  },
  {
   "cell_type": "code",
   "execution_count": 14,
   "outputs": [
    {
     "data": {
      "text/plain": "\"\\ndef gen_diagonal(start_row,start_col,increment,limit):\\n    col=start_col\\n    tmp=[]\\n    for row in range(start_row,SIZE):\\n        tmp.append(row_col_to_var(row,col))\\n        col=col+increment\\n        if col==limit:\\n            break\\n            #ignore diagonal sconsisting of 1 cell:\\n    if len(tmp)>1:\\n            # we can't use POPCNT1()here,sincesomediagonalsareemptyinvalidsolutions.\\n        unique(tmp).pop()\\n        return tmp\\n\""
     },
     "execution_count": 14,
     "metadata": {},
     "output_type": "execute_result"
    }
   ],
   "source": [
    "\"\"\"\n",
    "def gen_diagonal(start_row,start_col,increment,limit):\n",
    "    col=start_col\n",
    "    tmp=[]\n",
    "    for row in range(start_row,SIZE):\n",
    "        tmp.append(row_col_to_var(row,col))\n",
    "        col=col+increment\n",
    "        if col==limit:\n",
    "            break\n",
    "            #ignore diagonal sconsisting of 1 cell:\n",
    "    if len(tmp)>1:\n",
    "            # we can't use POPCNT1()here,sincesomediagonalsareemptyinvalidsolutions.\n",
    "        unique(tmp).pop()\n",
    "        return tmp\n",
    "\"\"\""
   ],
   "metadata": {
    "collapsed": false,
    "pycharm": {
     "name": "#%%\n"
    }
   }
  },
  {
   "cell_type": "code",
   "execution_count": 15,
   "outputs": [],
   "source": [
    "#gen_diagonal(0,0, 1,SIZE)"
   ],
   "metadata": {
    "collapsed": false,
    "pycharm": {
     "name": "#%%\n"
    }
   }
  },
  {
   "cell_type": "code",
   "execution_count": 16,
   "outputs": [
    {
     "data": {
      "text/plain": "'\\ndef create_diago_constraints() -> List[List[int]]:\\n    for row in range(SIZE):\\n        for col in range(SIZE):\\n            base1 = gen_diagonal(row,col, 1,SIZE) # from L to R\\n            base2 = gen_diagonal(row,col, -1, -1) # from R to L\\n\\n    return base1 + base2\\n'"
     },
     "execution_count": 16,
     "metadata": {},
     "output_type": "execute_result"
    }
   ],
   "source": [
    "\"\"\"\n",
    "def create_diago_constraints() -> List[List[int]]:\n",
    "    for row in range(SIZE):\n",
    "        for col in range(SIZE):\n",
    "            base1 = gen_diagonal(row,col, 1,SIZE) # from L to R\n",
    "            base2 = gen_diagonal(row,col, -1, -1) # from R to L\n",
    "\n",
    "    return base1 + base2\n",
    "\"\"\""
   ],
   "metadata": {
    "collapsed": false,
    "pycharm": {
     "name": "#%%\n"
    }
   }
  },
  {
   "cell_type": "code",
   "execution_count": 57,
   "outputs": [],
   "source": [
    "def create_diago_constraints() -> List[List[int]]:\n",
    "  base = []\n",
    "\n",
    "  # de la diagonale gauche(haut)-droite(bas) du centre vers le coin supérieur de la partie droite\n",
    "  base1 = []\n",
    "  for i in range(SIZE-1):\n",
    "    for j in range(SIZE-i):\n",
    "      base1.append(row_col_to_var(j,i+j))\n",
    "    #print(base1)\n",
    "    # pour avoir simplement une liste de liste et non une liste de liste de liste\n",
    "    base1 = AtmostOne(base1)\n",
    "    for i in base1:\n",
    "        base.append(i)\n",
    "    base1 = []\n",
    "\n",
    "# après la diagonale gauche-droite du centre vers le coin inférieur de la partie gauche\n",
    "  base2 = []\n",
    "  for i in range(1,SIZE-1):\n",
    "    for j in range(SIZE-i):\n",
    "      base2.append(row_col_to_var(j+i,j))\n",
    "    base2 = AtmostOne(base2)\n",
    "    for i in base2:\n",
    "        base.append(i)\n",
    "    base2 = []\n",
    "\n",
    "  # de la diagonale droite(haut)-gauche(bas) du centre vers le coin supérieur de la partie gauche\n",
    "  base3 = []\n",
    "  for i in range(SIZE-1):\n",
    "    for j in range(SIZE-i):\n",
    "      base3.append(row_col_to_var(j,SIZE-1-(i+j)))\n",
    "    base3 = AtmostOne(base3)\n",
    "    for i in base3:\n",
    "        base.append(i)\n",
    "    base3 = []\n",
    "\n",
    "# après la diagonale droite(haut)-gauche(bas) du centre vers le coin inférieur de la partie droite\n",
    "  base4 = []\n",
    "  for i in range(1,SIZE-1):\n",
    "    for j in range(SIZE-i):\n",
    "      base4.append(row_col_to_var(j+i,SIZE-1-j))\n",
    "    base4 = AtmostOne(base4)\n",
    "    for i in base4:\n",
    "        base.append(i)\n",
    "    base4 = []\n",
    "\n",
    "\n",
    "  #base = base1 + base2 + base3 + base4\n",
    "  return base\n"
   ],
   "metadata": {
    "collapsed": false,
    "pycharm": {
     "name": "#%%\n"
    }
   }
  },
  {
   "cell_type": "code",
   "execution_count": 58,
   "outputs": [
    {
     "data": {
      "text/plain": "[[-1, -6],\n [-1, -11],\n [-1, -16],\n [-6, -11],\n [-6, -16],\n [-11, -16],\n [-2, -7],\n [-2, -12],\n [-7, -12],\n [-3, -8],\n [-5, -10],\n [-5, -15],\n [-10, -15],\n [-9, -14],\n [-4, -7],\n [-4, -10],\n [-4, -13],\n [-7, -10],\n [-7, -13],\n [-10, -13],\n [-3, -6],\n [-3, -9],\n [-6, -9],\n [-2, -5],\n [-8, -11],\n [-8, -14],\n [-11, -14],\n [-12, -15]]"
     },
     "execution_count": 58,
     "metadata": {},
     "output_type": "execute_result"
    }
   ],
   "source": [
    "create_diago_constraints()\n"
   ],
   "metadata": {
    "collapsed": false,
    "pycharm": {
     "name": "#%%\n"
    }
   }
  },
  {
   "cell_type": "code",
   "execution_count": 111,
   "outputs": [],
   "source": [
    "def gen_diagonal(start_row,start_col,increment,limit):\n",
    "    col=start_col\n",
    "    tmp=[]\n",
    "    for row in range(start_row,SIZE):\n",
    "        tmp.append(row_col_to_var(row,col))\n",
    "        col=col+increment\n",
    "        if col==limit:\n",
    "            break\n",
    "            #ignore diagonal sconsisting of 1 cell:\n",
    "    if len(tmp)>1:\n",
    "            # we can't use POPCNT1()here,since some diagonals are empty invalid solutions.\n",
    "\n",
    "        tmp = AtmostOne(tmp)\n",
    "        return tmp"
   ],
   "metadata": {
    "collapsed": false,
    "pycharm": {
     "name": "#%%\n"
    }
   }
  },
  {
   "cell_type": "code",
   "execution_count": 112,
   "outputs": [],
   "source": [
    "def create_diago_constraints() -> List[List[int]]:\n",
    "    base1 = []\n",
    "    base2 = []\n",
    "    for row in range(SIZE):\n",
    "        for col in range(SIZE):\n",
    "            base1.append(gen_diagonal(row,col, 1,SIZE)) # from L to R\n",
    "            base2.append(gen_diagonal(row,col, -1, -1))# from R to L\n",
    "    #print(base1)\n",
    "    #print(base2)\n",
    "    base = []\n",
    "    for i in base1 + base2:\n",
    "        if i != None:\n",
    "            base.append(i)\n",
    "    # pour supprimer la liste de liste de liste et pour avoir une liste de liste\n",
    "    base_finale = []\n",
    "    for i in base:\n",
    "        for j in i:\n",
    "            base_finale.append(j)\n",
    "    # enlever les doublons !\n",
    "    base_finale2  = []\n",
    "    for i in base_finale:\n",
    "        if i not in base_finale2: base_finale2.append(i)\n",
    "\n",
    "    return base_finale2"
   ],
   "metadata": {
    "collapsed": false,
    "pycharm": {
     "name": "#%%\n"
    }
   }
  },
  {
   "cell_type": "code",
   "execution_count": 113,
   "outputs": [
    {
     "data": {
      "text/plain": "'\\ndef create_diago_constraints() -> List[List[int]]:\\n    base = []\\n    for j in range(SIZE):\\n        base += AtmostOne([j + i for i in range(SIZE)])\\n        base += AtmostOne([j - i for i in range(SIZE)])\\n    return base\\n'"
     },
     "execution_count": 113,
     "metadata": {},
     "output_type": "execute_result"
    }
   ],
   "source": [
    "\"\"\"\n",
    "def create_diago_constraints() -> List[List[int]]:\n",
    "    base = []\n",
    "    for j in range(SIZE):\n",
    "        base += AtmostOne([j + i for i in range(SIZE)])\n",
    "        base += AtmostOne([j - i for i in range(SIZE)])\n",
    "    return base\n",
    "\"\"\""
   ],
   "metadata": {
    "collapsed": false,
    "pycharm": {
     "name": "#%%\n"
    }
   }
  },
  {
   "cell_type": "code",
   "execution_count": 114,
   "outputs": [
    {
     "data": {
      "text/plain": "[[-1, -6],\n [-1, -11],\n [-1, -16],\n [-6, -11],\n [-6, -16],\n [-11, -16],\n [-2, -7],\n [-2, -12],\n [-7, -12],\n [-3, -8],\n [-5, -10],\n [-5, -15],\n [-10, -15],\n [-9, -14],\n [-2, -5],\n [-3, -6],\n [-3, -9],\n [-6, -9],\n [-4, -7],\n [-4, -10],\n [-4, -13],\n [-7, -10],\n [-7, -13],\n [-10, -13],\n [-8, -11],\n [-8, -14],\n [-11, -14],\n [-12, -15]]"
     },
     "execution_count": 114,
     "metadata": {},
     "output_type": "execute_result"
    }
   ],
   "source": [
    "create_diago_constraints()"
   ],
   "metadata": {
    "collapsed": false,
    "pycharm": {
     "name": "#%%\n"
    }
   }
  },
  {
   "cell_type": "code",
   "execution_count": 115,
   "outputs": [],
   "source": [
    "def generate_problem(grid: List[List[int]]) -> List[List[int]]:\n",
    "    base = []\n",
    "    base += create_line_constraints()\n",
    "    base += create_columns_constraints()\n",
    "    base += create_diago_constraints()\n",
    "\n",
    "    return base"
   ],
   "metadata": {
    "collapsed": false,
    "pycharm": {
     "name": "#%%\n"
    }
   }
  },
  {
   "cell_type": "code",
   "execution_count": 116,
   "outputs": [
    {
     "data": {
      "text/plain": "'\\ndef clauses_to_dimacs(clauses: List[List[int]], nb_vars: int) -> str:\\n    dimacs_format = \"p cnf 16 148\\n\"\\n    for listes in clauses:\\n        for j in listes:\\n            dimacs_format+=str(j)+\" \"\\n        dimacs_format+=\"0\\n\"\\n    return  dimacs_format\\n'"
     },
     "execution_count": 116,
     "metadata": {},
     "output_type": "execute_result"
    }
   ],
   "source": [
    "\"\"\"\n",
    "def clauses_to_dimacs(clauses: List[List[int]], nb_vars: int) -> str:\n",
    "    dimacs_format = \"p cnf 16 148\\n\"\n",
    "    for listes in clauses:\n",
    "        for j in listes:\n",
    "            dimacs_format+=str(j)+\" \"\n",
    "        dimacs_format+=\"0\\n\"\n",
    "    return  dimacs_format\n",
    "\"\"\""
   ],
   "metadata": {
    "collapsed": false,
    "pycharm": {
     "name": "#%%\n"
    }
   }
  },
  {
   "cell_type": "code",
   "execution_count": 117,
   "outputs": [],
   "source": [
    "def clauses_to_dimacs(grid: List[List[int]], nb_vars : int) -> str:\n",
    "    dimacs_str = f\"c 4_queen\\n\"\n",
    "    dimacs_str += f\"p cnf {nb_vars} {len(grid)}\\n\"\n",
    "    for clause in grid:\n",
    "        for litt in clause:\n",
    "            dimacs_str += f\"{litt} \"\n",
    "\n",
    "        dimacs_str += \"0\\n\"\n",
    "    return dimacs_str"
   ],
   "metadata": {
    "collapsed": false,
    "pycharm": {
     "name": "#%%\n"
    }
   }
  },
  {
   "cell_type": "code",
   "execution_count": 118,
   "outputs": [],
   "source": [
    "def write_dimacs_file(dimacs: str, filename: str):\n",
    "    with open(filename, \"w\", newline=\"\") as cnf:\n",
    "        cnf.write(dimacs)\n",
    "\n",
    "\n",
    "def exec_gophersat(filename: str, cmd: str = \"./gophersat-1.1.6\", encoding: str = \"utf8\") -> Tuple[bool, List[int]]:\n",
    "    result = subprocess.run(\n",
    "        [cmd, filename], capture_output=True, check=True, encoding=encoding\n",
    "    )\n",
    "    string = str(result.stdout)\n",
    "    lines = string.splitlines()\n",
    "\n",
    "    if lines[1] != \"s SATISFIABLE\":\n",
    "        return False, []\n",
    "\n",
    "    model = lines[2][2:].split(\" \")\n",
    "\n",
    "    return True, [int(x) for x in model]\n"
   ],
   "metadata": {
    "collapsed": false,
    "pycharm": {
     "name": "#%%\n"
    }
   }
  },
  {
   "cell_type": "code",
   "execution_count": 119,
   "outputs": [],
   "source": [
    "def resolution_queen(grid:List[List]) -> List[List]:\n",
    "    queen = generate_problem(grid) # IMPORTANT ME GENÉRER UN TABLEAU NON VOULU. CELA NE LE FAIT PAS QUAND JE NE MET PAS SUDOKU=\n",
    "    mes_clauses = clauses_to_dimacs(queen,16)\n",
    "    write_dimacs_file(mes_clauses,\"my_4_queen_clean.cnf\")\n",
    "    mon_execution = exec_gophersat(\"my_4_queen_clean.cnf\")\n",
    "    #resultat = model_to_grid(mon_execution[1])\n",
    "    return mon_execution\n"
   ],
   "metadata": {
    "collapsed": false,
    "pycharm": {
     "name": "#%%\n"
    }
   }
  },
  {
   "cell_type": "code",
   "execution_count": 120,
   "outputs": [
    {
     "data": {
      "text/plain": "(True, [-1, -2, 3, -4, 5, -6, -7, -8, -9, -10, -11, 12, -13, 14, -15, -16, 0])"
     },
     "execution_count": 120,
     "metadata": {},
     "output_type": "execute_result"
    }
   ],
   "source": [
    "resolution_queen(Quatre_Queen)"
   ],
   "metadata": {
    "collapsed": false,
    "pycharm": {
     "name": "#%%\n"
    }
   }
  },
  {
   "cell_type": "code",
   "execution_count": 27,
   "outputs": [],
   "source": [],
   "metadata": {
    "collapsed": false,
    "pycharm": {
     "name": "#%%\n"
    }
   }
  },
  {
   "cell_type": "code",
   "execution_count": 34,
   "outputs": [
    {
     "data": {
      "text/plain": "[[1, 6, 11, 16],\n [2, 7, 12],\n [3, 8],\n [5, 10, 15],\n [6, 11, 16],\n [7, 12],\n [9, 14],\n [10, 15],\n [11, 16],\n [2, 5],\n [3, 6, 9],\n [4, 7, 10, 13],\n [6, 9],\n [7, 10, 13],\n [8, 11, 14],\n [10, 13],\n [11, 14],\n [12, 15]]"
     },
     "execution_count": 34,
     "metadata": {},
     "output_type": "execute_result"
    }
   ],
   "source": [
    "create_diago_constraints()"
   ],
   "metadata": {
    "collapsed": false,
    "pycharm": {
     "name": "#%%\n"
    }
   }
  },
  {
   "cell_type": "code",
   "execution_count": 28,
   "outputs": [],
   "source": [],
   "metadata": {
    "collapsed": false,
    "pycharm": {
     "name": "#%%\n"
    }
   }
  },
  {
   "cell_type": "code",
   "execution_count": null,
   "outputs": [],
   "source": [],
   "metadata": {
    "collapsed": false,
    "pycharm": {
     "name": "#%%\n"
    }
   }
  }
 ],
 "metadata": {
  "kernelspec": {
   "display_name": "Python 3",
   "language": "python",
   "name": "python3"
  },
  "language_info": {
   "codemirror_mode": {
    "name": "ipython",
    "version": 2
   },
   "file_extension": ".py",
   "mimetype": "text/x-python",
   "name": "python",
   "nbconvert_exporter": "python",
   "pygments_lexer": "ipython2",
   "version": "2.7.6"
  }
 },
 "nbformat": 4,
 "nbformat_minor": 0
}